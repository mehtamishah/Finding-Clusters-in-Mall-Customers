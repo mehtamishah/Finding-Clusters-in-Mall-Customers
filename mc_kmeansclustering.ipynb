{
  "nbformat": 4,
  "nbformat_minor": 0,
  "metadata": {
    "colab": {
      "name": "mc_kmeansclustering.ipynb",
      "provenance": [],
      "authorship_tag": "ABX9TyPJvEcMj9TbgVEG8Af68SiT",
      "include_colab_link": true
    },
    "kernelspec": {
      "name": "python3",
      "display_name": "Python 3"
    }
  },
  "cells": [
    {
      "cell_type": "markdown",
      "metadata": {
        "id": "view-in-github",
        "colab_type": "text"
      },
      "source": [
        "<a href=\"https://colab.research.google.com/github/mehtamishah/Finding-Clusters-in-Mall-Customers/blob/main/mc_kmeansclustering.ipynb\" target=\"_parent\"><img src=\"https://colab.research.google.com/assets/colab-badge.svg\" alt=\"Open In Colab\"/></a>"
      ]
    },
    {
      "cell_type": "code",
      "metadata": {
        "id": "CNNOERAebUtx"
      },
      "source": [
        "import numpy as np\n",
        "import pandas as pd\n",
        "import matplotlib.pyplot as plt"
      ],
      "execution_count": null,
      "outputs": []
    },
    {
      "cell_type": "code",
      "metadata": {
        "id": "BpU1z42wbnid",
        "colab": {
          "base_uri": "https://localhost:8080/",
          "height": 204
        },
        "outputId": "512f947a-a2c0-429e-e59f-b83100345a21"
      },
      "source": [
        "dataset = pd.read_csv('Mall_Customers.csv')\n",
        "dataset.head()"
      ],
      "execution_count": null,
      "outputs": [
        {
          "output_type": "execute_result",
          "data": {
            "text/html": [
              "<div>\n",
              "<style scoped>\n",
              "    .dataframe tbody tr th:only-of-type {\n",
              "        vertical-align: middle;\n",
              "    }\n",
              "\n",
              "    .dataframe tbody tr th {\n",
              "        vertical-align: top;\n",
              "    }\n",
              "\n",
              "    .dataframe thead th {\n",
              "        text-align: right;\n",
              "    }\n",
              "</style>\n",
              "<table border=\"1\" class=\"dataframe\">\n",
              "  <thead>\n",
              "    <tr style=\"text-align: right;\">\n",
              "      <th></th>\n",
              "      <th>CustomerID</th>\n",
              "      <th>Genre</th>\n",
              "      <th>Age</th>\n",
              "      <th>Annual Income (k$)</th>\n",
              "      <th>Spending Score (1-100)</th>\n",
              "    </tr>\n",
              "  </thead>\n",
              "  <tbody>\n",
              "    <tr>\n",
              "      <th>0</th>\n",
              "      <td>1</td>\n",
              "      <td>Male</td>\n",
              "      <td>19</td>\n",
              "      <td>15</td>\n",
              "      <td>39</td>\n",
              "    </tr>\n",
              "    <tr>\n",
              "      <th>1</th>\n",
              "      <td>2</td>\n",
              "      <td>Male</td>\n",
              "      <td>21</td>\n",
              "      <td>15</td>\n",
              "      <td>81</td>\n",
              "    </tr>\n",
              "    <tr>\n",
              "      <th>2</th>\n",
              "      <td>3</td>\n",
              "      <td>Female</td>\n",
              "      <td>20</td>\n",
              "      <td>16</td>\n",
              "      <td>6</td>\n",
              "    </tr>\n",
              "    <tr>\n",
              "      <th>3</th>\n",
              "      <td>4</td>\n",
              "      <td>Female</td>\n",
              "      <td>23</td>\n",
              "      <td>16</td>\n",
              "      <td>77</td>\n",
              "    </tr>\n",
              "    <tr>\n",
              "      <th>4</th>\n",
              "      <td>5</td>\n",
              "      <td>Female</td>\n",
              "      <td>31</td>\n",
              "      <td>17</td>\n",
              "      <td>40</td>\n",
              "    </tr>\n",
              "  </tbody>\n",
              "</table>\n",
              "</div>"
            ],
            "text/plain": [
              "   CustomerID   Genre  Age  Annual Income (k$)  Spending Score (1-100)\n",
              "0           1    Male   19                  15                      39\n",
              "1           2    Male   21                  15                      81\n",
              "2           3  Female   20                  16                       6\n",
              "3           4  Female   23                  16                      77\n",
              "4           5  Female   31                  17                      40"
            ]
          },
          "metadata": {
            "tags": []
          },
          "execution_count": 7
        }
      ]
    },
    {
      "cell_type": "code",
      "metadata": {
        "colab": {
          "base_uri": "https://localhost:8080/",
          "height": 297
        },
        "id": "qqeseM0FTFtp",
        "outputId": "867863ca-e268-4baa-b861-b085fe527644"
      },
      "source": [
        "dataset.describe()"
      ],
      "execution_count": null,
      "outputs": [
        {
          "output_type": "execute_result",
          "data": {
            "text/html": [
              "<div>\n",
              "<style scoped>\n",
              "    .dataframe tbody tr th:only-of-type {\n",
              "        vertical-align: middle;\n",
              "    }\n",
              "\n",
              "    .dataframe tbody tr th {\n",
              "        vertical-align: top;\n",
              "    }\n",
              "\n",
              "    .dataframe thead th {\n",
              "        text-align: right;\n",
              "    }\n",
              "</style>\n",
              "<table border=\"1\" class=\"dataframe\">\n",
              "  <thead>\n",
              "    <tr style=\"text-align: right;\">\n",
              "      <th></th>\n",
              "      <th>CustomerID</th>\n",
              "      <th>Age</th>\n",
              "      <th>Annual Income (k$)</th>\n",
              "      <th>Spending Score (1-100)</th>\n",
              "    </tr>\n",
              "  </thead>\n",
              "  <tbody>\n",
              "    <tr>\n",
              "      <th>count</th>\n",
              "      <td>200.000000</td>\n",
              "      <td>200.000000</td>\n",
              "      <td>200.000000</td>\n",
              "      <td>200.000000</td>\n",
              "    </tr>\n",
              "    <tr>\n",
              "      <th>mean</th>\n",
              "      <td>100.500000</td>\n",
              "      <td>38.850000</td>\n",
              "      <td>60.560000</td>\n",
              "      <td>50.200000</td>\n",
              "    </tr>\n",
              "    <tr>\n",
              "      <th>std</th>\n",
              "      <td>57.879185</td>\n",
              "      <td>13.969007</td>\n",
              "      <td>26.264721</td>\n",
              "      <td>25.823522</td>\n",
              "    </tr>\n",
              "    <tr>\n",
              "      <th>min</th>\n",
              "      <td>1.000000</td>\n",
              "      <td>18.000000</td>\n",
              "      <td>15.000000</td>\n",
              "      <td>1.000000</td>\n",
              "    </tr>\n",
              "    <tr>\n",
              "      <th>25%</th>\n",
              "      <td>50.750000</td>\n",
              "      <td>28.750000</td>\n",
              "      <td>41.500000</td>\n",
              "      <td>34.750000</td>\n",
              "    </tr>\n",
              "    <tr>\n",
              "      <th>50%</th>\n",
              "      <td>100.500000</td>\n",
              "      <td>36.000000</td>\n",
              "      <td>61.500000</td>\n",
              "      <td>50.000000</td>\n",
              "    </tr>\n",
              "    <tr>\n",
              "      <th>75%</th>\n",
              "      <td>150.250000</td>\n",
              "      <td>49.000000</td>\n",
              "      <td>78.000000</td>\n",
              "      <td>73.000000</td>\n",
              "    </tr>\n",
              "    <tr>\n",
              "      <th>max</th>\n",
              "      <td>200.000000</td>\n",
              "      <td>70.000000</td>\n",
              "      <td>137.000000</td>\n",
              "      <td>99.000000</td>\n",
              "    </tr>\n",
              "  </tbody>\n",
              "</table>\n",
              "</div>"
            ],
            "text/plain": [
              "       CustomerID         Age  Annual Income (k$)  Spending Score (1-100)\n",
              "count  200.000000  200.000000          200.000000              200.000000\n",
              "mean   100.500000   38.850000           60.560000               50.200000\n",
              "std     57.879185   13.969007           26.264721               25.823522\n",
              "min      1.000000   18.000000           15.000000                1.000000\n",
              "25%     50.750000   28.750000           41.500000               34.750000\n",
              "50%    100.500000   36.000000           61.500000               50.000000\n",
              "75%    150.250000   49.000000           78.000000               73.000000\n",
              "max    200.000000   70.000000          137.000000               99.000000"
            ]
          },
          "metadata": {
            "tags": []
          },
          "execution_count": 8
        }
      ]
    },
    {
      "cell_type": "code",
      "metadata": {
        "id": "QR-waefabtRH"
      },
      "source": [
        "X = dataset.iloc[:, [3, 4]].to_numpy()"
      ],
      "execution_count": null,
      "outputs": []
    },
    {
      "cell_type": "code",
      "metadata": {
        "id": "snwq1WQWTQkd"
      },
      "source": [
        "# #One Hot Encoding\n",
        "# from sklearn.compose import ColumnTransformer\n",
        "# from sklearn.preprocessing import OneHotEncoder, StandardScaler\n",
        "# ct = ColumnTransformer(transformers = ('encoder', OneHotEncoder, [0]), remainder = 'passthrough')\n",
        "# X[0] = ct.fit_transform(X)\n",
        "# #Feature Scaling ?\n",
        "# sc = StandardScaler()\n",
        "# X = sc.fit_transform(X)"
      ],
      "execution_count": null,
      "outputs": []
    },
    {
      "cell_type": "code",
      "metadata": {
        "colab": {
          "base_uri": "https://localhost:8080/",
          "height": 295
        },
        "id": "uVHDvleaM79y",
        "outputId": "3f2fd967-22a4-4000-da50-0e318371ae40"
      },
      "source": [
        "# Elbow Method\n",
        "from sklearn.cluster import KMeans\n",
        "wcss = []\n",
        "for i in range(1,11):\n",
        "  kmeans = KMeans(n_clusters = i, init = 'k-means++', random_state = 42)\n",
        "  kmeans.fit(X)\n",
        "  wcss.append(kmeans.inertia_)\n",
        "plt.plot(range(1,11), wcss)\n",
        "plt.title('The Elbow Method')\n",
        "plt.xlabel('Number of clusters')\n",
        "plt.ylabel('WCSS')\n",
        "plt.show()"
      ],
      "execution_count": null,
      "outputs": [
        {
          "output_type": "display_data",
          "data": {
            "image/png": "[encoded data removed]",
            "text/plain": [
              "<Figure size 432x288 with 1 Axes>"
            ]
          },
          "metadata": {
            "tags": [],
            "needs_background": "light"
          }
        }
      ]
    },
    {
      "cell_type": "code",
      "metadata": {
        "id": "_5AQo07GqucT"
      },
      "source": [
        "kmeans = KMeans(n_clusters = 5, init = 'k-means++', random_state = 42)\n",
        "y_kmeans = kmeans.fit_predict(X)"
      ],
      "execution_count": null,
      "outputs": []
    },
    {
      "cell_type": "code",
      "metadata": {
        "colab": {
          "base_uri": "https://localhost:8080/"
        },
        "id": "28i8vMPb-WuI",
        "outputId": "ece25457-a37d-4a47-96cd-3b7dacc3b953"
      },
      "source": [
        "print(type(y_kmeans))\n",
        "print(y_kmeans)"
      ],
      "execution_count": null,
      "outputs": [
        {
          "output_type": "stream",
          "text": [
            "<class 'numpy.ndarray'>\n",
            "[3 0 3 0 3 0 3 0 3 0 3 0 3 0 3 0 3 0 3 0 3 0 3 0 3 0 3 0 3 0 3 0 3 0 3 0 3\n",
            " 0 3 0 3 0 3 1 3 0 1 1 1 1 1 1 1 1 1 1 1 1 1 1 1 1 1 1 1 1 1 1 1 1 1 1 1 1\n",
            " 1 1 1 1 1 1 1 1 1 1 1 1 1 1 1 1 1 1 1 1 1 1 1 1 1 1 1 1 1 1 1 1 1 1 1 1 1\n",
            " 1 1 1 1 1 1 1 1 1 1 1 1 2 4 2 1 2 4 2 4 2 1 2 4 2 4 2 4 2 4 2 1 2 4 2 4 2\n",
            " 4 2 4 2 4 2 4 2 4 2 4 2 4 2 4 2 4 2 4 2 4 2 4 2 4 2 4 2 4 2 4 2 4 2 4 2 4\n",
            " 2 4 2 4 2 4 2 4 2 4 2 4 2 4 2]\n"
          ],
          "name": "stdout"
        }
      ]
    },
    {
      "cell_type": "code",
      "metadata": {
        "colab": {
          "base_uri": "https://localhost:8080/"
        },
        "id": "AGe6qMph-fRc",
        "outputId": "1db7ea1d-9bfb-42bd-dcb1-c245b3749b4e"
      },
      "source": [
        "# y_kmeans = y_kmeans.reshape(len(y_kmeans), 1)\n",
        "# np.concatenate((X, y_kmeans), axis = 1)"
      ],
      "execution_count": null,
      "outputs": [
        {
          "output_type": "execute_result",
          "data": {
            "text/plain": [
              "array([[ 15,  39,   3],\n",
              "       [ 15,  81,   0],\n",
              "       [ 16,   6,   3],\n",
              "       [ 16,  77,   0],\n",
              "       [ 17,  40,   3],\n",
              "       [ 17,  76,   0],\n",
              "       [ 18,   6,   3],\n",
              "       [ 18,  94,   0],\n",
              "       [ 19,   3,   3],\n",
              "       [ 19,  72,   0],\n",
              "       [ 19,  14,   3],\n",
              "       [ 19,  99,   0],\n",
              "       [ 20,  15,   3],\n",
              "       [ 20,  77,   0],\n",
              "       [ 20,  13,   3],\n",
              "       [ 20,  79,   0],\n",
              "       [ 21,  35,   3],\n",
              "       [ 21,  66,   0],\n",
              "       [ 23,  29,   3],\n",
              "       [ 23,  98,   0],\n",
              "       [ 24,  35,   3],\n",
              "       [ 24,  73,   0],\n",
              "       [ 25,   5,   3],\n",
              "       [ 25,  73,   0],\n",
              "       [ 28,  14,   3],\n",
              "       [ 28,  82,   0],\n",
              "       [ 28,  32,   3],\n",
              "       [ 28,  61,   0],\n",
              "       [ 29,  31,   3],\n",
              "       [ 29,  87,   0],\n",
              "       [ 30,   4,   3],\n",
              "       [ 30,  73,   0],\n",
              "       [ 33,   4,   3],\n",
              "       [ 33,  92,   0],\n",
              "       [ 33,  14,   3],\n",
              "       [ 33,  81,   0],\n",
              "       [ 34,  17,   3],\n",
              "       [ 34,  73,   0],\n",
              "       [ 37,  26,   3],\n",
              "       [ 37,  75,   0],\n",
              "       [ 38,  35,   3],\n",
              "       [ 38,  92,   0],\n",
              "       [ 39,  36,   3],\n",
              "       [ 39,  61,   1],\n",
              "       [ 39,  28,   3],\n",
              "       [ 39,  65,   0],\n",
              "       [ 40,  55,   1],\n",
              "       [ 40,  47,   1],\n",
              "       [ 40,  42,   1],\n",
              "       [ 40,  42,   1],\n",
              "       [ 42,  52,   1],\n",
              "       [ 42,  60,   1],\n",
              "       [ 43,  54,   1],\n",
              "       [ 43,  60,   1],\n",
              "       [ 43,  45,   1],\n",
              "       [ 43,  41,   1],\n",
              "       [ 44,  50,   1],\n",
              "       [ 44,  46,   1],\n",
              "       [ 46,  51,   1],\n",
              "       [ 46,  46,   1],\n",
              "       [ 46,  56,   1],\n",
              "       [ 46,  55,   1],\n",
              "       [ 47,  52,   1],\n",
              "       [ 47,  59,   1],\n",
              "       [ 48,  51,   1],\n",
              "       [ 48,  59,   1],\n",
              "       [ 48,  50,   1],\n",
              "       [ 48,  48,   1],\n",
              "       [ 48,  59,   1],\n",
              "       [ 48,  47,   1],\n",
              "       [ 49,  55,   1],\n",
              "       [ 49,  42,   1],\n",
              "       [ 50,  49,   1],\n",
              "       [ 50,  56,   1],\n",
              "       [ 54,  47,   1],\n",
              "       [ 54,  54,   1],\n",
              "       [ 54,  53,   1],\n",
              "       [ 54,  48,   1],\n",
              "       [ 54,  52,   1],\n",
              "       [ 54,  42,   1],\n",
              "       [ 54,  51,   1],\n",
              "       [ 54,  55,   1],\n",
              "       [ 54,  41,   1],\n",
              "       [ 54,  44,   1],\n",
              "       [ 54,  57,   1],\n",
              "       [ 54,  46,   1],\n",
              "       [ 57,  58,   1],\n",
              "       [ 57,  55,   1],\n",
              "       [ 58,  60,   1],\n",
              "       [ 58,  46,   1],\n",
              "       [ 59,  55,   1],\n",
              "       [ 59,  41,   1],\n",
              "       [ 60,  49,   1],\n",
              "       [ 60,  40,   1],\n",
              "       [ 60,  42,   1],\n",
              "       [ 60,  52,   1],\n",
              "       [ 60,  47,   1],\n",
              "       [ 60,  50,   1],\n",
              "       [ 61,  42,   1],\n",
              "       [ 61,  49,   1],\n",
              "       [ 62,  41,   1],\n",
              "       [ 62,  48,   1],\n",
              "       [ 62,  59,   1],\n",
              "       [ 62,  55,   1],\n",
              "       [ 62,  56,   1],\n",
              "       [ 62,  42,   1],\n",
              "       [ 63,  50,   1],\n",
              "       [ 63,  46,   1],\n",
              "       [ 63,  43,   1],\n",
              "       [ 63,  48,   1],\n",
              "       [ 63,  52,   1],\n",
              "       [ 63,  54,   1],\n",
              "       [ 64,  42,   1],\n",
              "       [ 64,  46,   1],\n",
              "       [ 65,  48,   1],\n",
              "       [ 65,  50,   1],\n",
              "       [ 65,  43,   1],\n",
              "       [ 65,  59,   1],\n",
              "       [ 67,  43,   1],\n",
              "       [ 67,  57,   1],\n",
              "       [ 67,  56,   1],\n",
              "       [ 67,  40,   1],\n",
              "       [ 69,  58,   1],\n",
              "       [ 69,  91,   2],\n",
              "       [ 70,  29,   4],\n",
              "       [ 70,  77,   2],\n",
              "       [ 71,  35,   1],\n",
              "       [ 71,  95,   2],\n",
              "       [ 71,  11,   4],\n",
              "       [ 71,  75,   2],\n",
              "       [ 71,   9,   4],\n",
              "       [ 71,  75,   2],\n",
              "       [ 72,  34,   1],\n",
              "       [ 72,  71,   2],\n",
              "       [ 73,   5,   4],\n",
              "       [ 73,  88,   2],\n",
              "       [ 73,   7,   4],\n",
              "       [ 73,  73,   2],\n",
              "       [ 74,  10,   4],\n",
              "       [ 74,  72,   2],\n",
              "       [ 75,   5,   4],\n",
              "       [ 75,  93,   2],\n",
              "       [ 76,  40,   1],\n",
              "       [ 76,  87,   2],\n",
              "       [ 77,  12,   4],\n",
              "       [ 77,  97,   2],\n",
              "       [ 77,  36,   4],\n",
              "       [ 77,  74,   2],\n",
              "       [ 78,  22,   4],\n",
              "       [ 78,  90,   2],\n",
              "       [ 78,  17,   4],\n",
              "       [ 78,  88,   2],\n",
              "       [ 78,  20,   4],\n",
              "       [ 78,  76,   2],\n",
              "       [ 78,  16,   4],\n",
              "       [ 78,  89,   2],\n",
              "       [ 78,   1,   4],\n",
              "       [ 78,  78,   2],\n",
              "       [ 78,   1,   4],\n",
              "       [ 78,  73,   2],\n",
              "       [ 79,  35,   4],\n",
              "       [ 79,  83,   2],\n",
              "       [ 81,   5,   4],\n",
              "       [ 81,  93,   2],\n",
              "       [ 85,  26,   4],\n",
              "       [ 85,  75,   2],\n",
              "       [ 86,  20,   4],\n",
              "       [ 86,  95,   2],\n",
              "       [ 87,  27,   4],\n",
              "       [ 87,  63,   2],\n",
              "       [ 87,  13,   4],\n",
              "       [ 87,  75,   2],\n",
              "       [ 87,  10,   4],\n",
              "       [ 87,  92,   2],\n",
              "       [ 88,  13,   4],\n",
              "       [ 88,  86,   2],\n",
              "       [ 88,  15,   4],\n",
              "       [ 88,  69,   2],\n",
              "       [ 93,  14,   4],\n",
              "       [ 93,  90,   2],\n",
              "       [ 97,  32,   4],\n",
              "       [ 97,  86,   2],\n",
              "       [ 98,  15,   4],\n",
              "       [ 98,  88,   2],\n",
              "       [ 99,  39,   4],\n",
              "       [ 99,  97,   2],\n",
              "       [101,  24,   4],\n",
              "       [101,  68,   2],\n",
              "       [103,  17,   4],\n",
              "       [103,  85,   2],\n",
              "       [103,  23,   4],\n",
              "       [103,  69,   2],\n",
              "       [113,   8,   4],\n",
              "       [113,  91,   2],\n",
              "       [120,  16,   4],\n",
              "       [120,  79,   2],\n",
              "       [126,  28,   4],\n",
              "       [126,  74,   2],\n",
              "       [137,  18,   4],\n",
              "       [137,  83,   2]])"
            ]
          },
          "metadata": {
            "tags": []
          },
          "execution_count": 23
        }
      ]
    },
    {
      "cell_type": "code",
      "metadata": {
        "colab": {
          "base_uri": "https://localhost:8080/",
          "height": 295
        },
        "id": "HmKNXVvFNOHZ",
        "outputId": "4a1b1fd7-9283-4705-b950-317dfd8bf02c"
      },
      "source": [
        "#Visualization\n",
        "plt.scatter(X[y_kmeans == 0, 0], X[y_kmeans == 0, 1], s = 50, c = 'red', label = 'Cluster 1')\n",
        "plt.scatter(X[y_kmeans == 1, 0], X[y_kmeans == 1, 1], s = 50, color='blue', label = 'Cluster 2')\n",
        "plt.scatter(X[y_kmeans == 2, 0], X[y_kmeans == 2, 1], s = 50, color='green', label = 'Cluster 3')\n",
        "plt.scatter(X[y_kmeans == 3, 0], X[y_kmeans == 3, 1], s = 50, color='cyan', label = 'Cluster 4')\n",
        "plt.scatter(X[y_kmeans == 4, 0], X[y_kmeans == 4, 1], s = 50, color='magenta', label = 'Cluster 5')\n",
        "plt.scatter(kmeans.cluster_centers_[:,0], kmeans.cluster_centers_[:,1], s = 75, color='black', label = 'Centroids')\n",
        "plt.ylabel('Spending Score(1-100)')\n",
        "plt.xlabel('Annual Income(k$)')\n",
        "plt.title('Clusters of customers')\n",
        "plt.legend(bbox_to_anchor=(1, 1), loc = 'upper left')\n",
        "plt.show()"
      ],
      "execution_count": null,
      "outputs": [
        {
          "output_type": "display_data",
          "data": {
            "image/png": "[encoded data removed]",
            "text/plain": [
              "<Figure size 432x288 with 1 Axes>"
            ]
          },
          "metadata": {
            "tags": [],
            "needs_background": "light"
          }
        }
      ]
    }
  ]
}